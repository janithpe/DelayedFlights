{
 "cells": [
  {
   "cell_type": "code",
   "execution_count": 1,
   "metadata": {},
   "outputs": [],
   "source": [
    "import warnings\n",
    "import pandas as pd\n",
    "import numpy as np\n",
    "import seaborn as sns\n",
    "import matplotlib.pyplot as plt\n",
    "from sklearn.preprocessing import LabelEncoder, LabelBinarizer\n",
    "from sklearn.model_selection import train_test_split, cross_validate, GridSearchCV\n",
    "from sklearn.metrics import make_scorer, accuracy_score, precision_score, recall_score, f1_score, classification_report, confusion_matrix\n",
    "from sklearn.linear_model import LogisticRegression, SGDClassifier\n",
    "from sklearn.tree import DecisionTreeClassifier\n",
    "from sklearn.ensemble import RandomForestClassifier, GradientBoostingClassifier\n",
    "from sklearn.svm import SVC\n",
    "from xgboost import XGBClassifier\n",
    "from imblearn.over_sampling import RandomOverSampler\n",
    "\n",
    "warnings.filterwarnings(\"ignore\")\n",
    "%matplotlib inline"
   ]
  },
  {
   "cell_type": "code",
   "execution_count": 2,
   "metadata": {},
   "outputs": [],
   "source": [
    "pd.set_option('display.max_rows', 500)\n",
    "pd.set_option('display.max_columns', 500)\n",
    "pd.set_option('display.width', 1000)\n",
    "\n",
    "flights_jan_2019 = pd.read_csv(\"https://raw.githubusercontent.com/emmanueliarussi/DataScienceCapstone/master/3_MidtermProjects/ProjectFD/data/jan_2019_ontime.csv\")\n",
    "flights_jan_2020 = pd.read_csv(\"https://raw.githubusercontent.com/emmanueliarussi/DataScienceCapstone/master/3_MidtermProjects/ProjectFD/data/jan_2020_ontime.csv\")"
   ]
  },
  {
   "cell_type": "code",
   "execution_count": 3,
   "metadata": {},
   "outputs": [
    {
     "name": "stdout",
     "output_type": "stream",
     "text": [
      "(583985, 22)\n"
     ]
    },
    {
     "data": {
      "text/html": [
       "<div>\n",
       "<style scoped>\n",
       "    .dataframe tbody tr th:only-of-type {\n",
       "        vertical-align: middle;\n",
       "    }\n",
       "\n",
       "    .dataframe tbody tr th {\n",
       "        vertical-align: top;\n",
       "    }\n",
       "\n",
       "    .dataframe thead th {\n",
       "        text-align: right;\n",
       "    }\n",
       "</style>\n",
       "<table border=\"1\" class=\"dataframe\">\n",
       "  <thead>\n",
       "    <tr style=\"text-align: right;\">\n",
       "      <th></th>\n",
       "      <th>DAY_OF_MONTH</th>\n",
       "      <th>DAY_OF_WEEK</th>\n",
       "      <th>OP_UNIQUE_CARRIER</th>\n",
       "      <th>OP_CARRIER_AIRLINE_ID</th>\n",
       "      <th>OP_CARRIER</th>\n",
       "      <th>TAIL_NUM</th>\n",
       "      <th>OP_CARRIER_FL_NUM</th>\n",
       "      <th>ORIGIN_AIRPORT_ID</th>\n",
       "      <th>ORIGIN_AIRPORT_SEQ_ID</th>\n",
       "      <th>ORIGIN</th>\n",
       "      <th>DEST_AIRPORT_ID</th>\n",
       "      <th>DEST_AIRPORT_SEQ_ID</th>\n",
       "      <th>DEST</th>\n",
       "      <th>DEP_TIME</th>\n",
       "      <th>DEP_DEL15</th>\n",
       "      <th>DEP_TIME_BLK</th>\n",
       "      <th>ARR_TIME</th>\n",
       "      <th>ARR_DEL15</th>\n",
       "      <th>CANCELLED</th>\n",
       "      <th>DIVERTED</th>\n",
       "      <th>DISTANCE</th>\n",
       "      <th>Unnamed: 21</th>\n",
       "    </tr>\n",
       "  </thead>\n",
       "  <tbody>\n",
       "    <tr>\n",
       "      <th>0</th>\n",
       "      <td>1</td>\n",
       "      <td>2</td>\n",
       "      <td>9E</td>\n",
       "      <td>20363</td>\n",
       "      <td>9E</td>\n",
       "      <td>N8688C</td>\n",
       "      <td>3280</td>\n",
       "      <td>11953</td>\n",
       "      <td>1195302</td>\n",
       "      <td>GNV</td>\n",
       "      <td>10397</td>\n",
       "      <td>1039707</td>\n",
       "      <td>ATL</td>\n",
       "      <td>601.0</td>\n",
       "      <td>0.0</td>\n",
       "      <td>0600-0659</td>\n",
       "      <td>722.0</td>\n",
       "      <td>0.0</td>\n",
       "      <td>0.0</td>\n",
       "      <td>0.0</td>\n",
       "      <td>300.0</td>\n",
       "      <td>NaN</td>\n",
       "    </tr>\n",
       "    <tr>\n",
       "      <th>1</th>\n",
       "      <td>1</td>\n",
       "      <td>2</td>\n",
       "      <td>9E</td>\n",
       "      <td>20363</td>\n",
       "      <td>9E</td>\n",
       "      <td>N348PQ</td>\n",
       "      <td>3281</td>\n",
       "      <td>13487</td>\n",
       "      <td>1348702</td>\n",
       "      <td>MSP</td>\n",
       "      <td>11193</td>\n",
       "      <td>1119302</td>\n",
       "      <td>CVG</td>\n",
       "      <td>1359.0</td>\n",
       "      <td>0.0</td>\n",
       "      <td>1400-1459</td>\n",
       "      <td>1633.0</td>\n",
       "      <td>0.0</td>\n",
       "      <td>0.0</td>\n",
       "      <td>0.0</td>\n",
       "      <td>596.0</td>\n",
       "      <td>NaN</td>\n",
       "    </tr>\n",
       "    <tr>\n",
       "      <th>2</th>\n",
       "      <td>1</td>\n",
       "      <td>2</td>\n",
       "      <td>9E</td>\n",
       "      <td>20363</td>\n",
       "      <td>9E</td>\n",
       "      <td>N8896A</td>\n",
       "      <td>3282</td>\n",
       "      <td>11433</td>\n",
       "      <td>1143302</td>\n",
       "      <td>DTW</td>\n",
       "      <td>11193</td>\n",
       "      <td>1119302</td>\n",
       "      <td>CVG</td>\n",
       "      <td>1215.0</td>\n",
       "      <td>0.0</td>\n",
       "      <td>1200-1259</td>\n",
       "      <td>1329.0</td>\n",
       "      <td>0.0</td>\n",
       "      <td>0.0</td>\n",
       "      <td>0.0</td>\n",
       "      <td>229.0</td>\n",
       "      <td>NaN</td>\n",
       "    </tr>\n",
       "    <tr>\n",
       "      <th>3</th>\n",
       "      <td>1</td>\n",
       "      <td>2</td>\n",
       "      <td>9E</td>\n",
       "      <td>20363</td>\n",
       "      <td>9E</td>\n",
       "      <td>N8886A</td>\n",
       "      <td>3283</td>\n",
       "      <td>15249</td>\n",
       "      <td>1524906</td>\n",
       "      <td>TLH</td>\n",
       "      <td>10397</td>\n",
       "      <td>1039707</td>\n",
       "      <td>ATL</td>\n",
       "      <td>1521.0</td>\n",
       "      <td>0.0</td>\n",
       "      <td>1500-1559</td>\n",
       "      <td>1625.0</td>\n",
       "      <td>0.0</td>\n",
       "      <td>0.0</td>\n",
       "      <td>0.0</td>\n",
       "      <td>223.0</td>\n",
       "      <td>NaN</td>\n",
       "    </tr>\n",
       "    <tr>\n",
       "      <th>4</th>\n",
       "      <td>1</td>\n",
       "      <td>2</td>\n",
       "      <td>9E</td>\n",
       "      <td>20363</td>\n",
       "      <td>9E</td>\n",
       "      <td>N8974C</td>\n",
       "      <td>3284</td>\n",
       "      <td>10397</td>\n",
       "      <td>1039707</td>\n",
       "      <td>ATL</td>\n",
       "      <td>11778</td>\n",
       "      <td>1177801</td>\n",
       "      <td>FSM</td>\n",
       "      <td>1847.0</td>\n",
       "      <td>0.0</td>\n",
       "      <td>1900-1959</td>\n",
       "      <td>1940.0</td>\n",
       "      <td>0.0</td>\n",
       "      <td>0.0</td>\n",
       "      <td>0.0</td>\n",
       "      <td>579.0</td>\n",
       "      <td>NaN</td>\n",
       "    </tr>\n",
       "  </tbody>\n",
       "</table>\n",
       "</div>"
      ],
      "text/plain": [
       "   DAY_OF_MONTH  DAY_OF_WEEK OP_UNIQUE_CARRIER  OP_CARRIER_AIRLINE_ID OP_CARRIER TAIL_NUM  OP_CARRIER_FL_NUM  ORIGIN_AIRPORT_ID  ORIGIN_AIRPORT_SEQ_ID ORIGIN  DEST_AIRPORT_ID  DEST_AIRPORT_SEQ_ID DEST  DEP_TIME  DEP_DEL15 DEP_TIME_BLK  ARR_TIME  ARR_DEL15  CANCELLED  DIVERTED  DISTANCE  Unnamed: 21\n",
       "0             1            2                9E                  20363         9E   N8688C               3280              11953                1195302    GNV            10397              1039707  ATL     601.0        0.0    0600-0659     722.0        0.0        0.0       0.0     300.0          NaN\n",
       "1             1            2                9E                  20363         9E   N348PQ               3281              13487                1348702    MSP            11193              1119302  CVG    1359.0        0.0    1400-1459    1633.0        0.0        0.0       0.0     596.0          NaN\n",
       "2             1            2                9E                  20363         9E   N8896A               3282              11433                1143302    DTW            11193              1119302  CVG    1215.0        0.0    1200-1259    1329.0        0.0        0.0       0.0     229.0          NaN\n",
       "3             1            2                9E                  20363         9E   N8886A               3283              15249                1524906    TLH            10397              1039707  ATL    1521.0        0.0    1500-1559    1625.0        0.0        0.0       0.0     223.0          NaN\n",
       "4             1            2                9E                  20363         9E   N8974C               3284              10397                1039707    ATL            11778              1177801  FSM    1847.0        0.0    1900-1959    1940.0        0.0        0.0       0.0     579.0          NaN"
      ]
     },
     "execution_count": 3,
     "metadata": {},
     "output_type": "execute_result"
    }
   ],
   "source": [
    "print(flights_jan_2019.shape)\n",
    "flights_jan_2019.head()"
   ]
  },
  {
   "cell_type": "code",
   "execution_count": 4,
   "metadata": {},
   "outputs": [
    {
     "name": "stdout",
     "output_type": "stream",
     "text": [
      "(607346, 22)\n"
     ]
    },
    {
     "data": {
      "text/html": [
       "<div>\n",
       "<style scoped>\n",
       "    .dataframe tbody tr th:only-of-type {\n",
       "        vertical-align: middle;\n",
       "    }\n",
       "\n",
       "    .dataframe tbody tr th {\n",
       "        vertical-align: top;\n",
       "    }\n",
       "\n",
       "    .dataframe thead th {\n",
       "        text-align: right;\n",
       "    }\n",
       "</style>\n",
       "<table border=\"1\" class=\"dataframe\">\n",
       "  <thead>\n",
       "    <tr style=\"text-align: right;\">\n",
       "      <th></th>\n",
       "      <th>DAY_OF_MONTH</th>\n",
       "      <th>DAY_OF_WEEK</th>\n",
       "      <th>OP_UNIQUE_CARRIER</th>\n",
       "      <th>OP_CARRIER_AIRLINE_ID</th>\n",
       "      <th>OP_CARRIER</th>\n",
       "      <th>TAIL_NUM</th>\n",
       "      <th>OP_CARRIER_FL_NUM</th>\n",
       "      <th>ORIGIN_AIRPORT_ID</th>\n",
       "      <th>ORIGIN_AIRPORT_SEQ_ID</th>\n",
       "      <th>ORIGIN</th>\n",
       "      <th>DEST_AIRPORT_ID</th>\n",
       "      <th>DEST_AIRPORT_SEQ_ID</th>\n",
       "      <th>DEST</th>\n",
       "      <th>DEP_TIME</th>\n",
       "      <th>DEP_DEL15</th>\n",
       "      <th>DEP_TIME_BLK</th>\n",
       "      <th>ARR_TIME</th>\n",
       "      <th>ARR_DEL15</th>\n",
       "      <th>CANCELLED</th>\n",
       "      <th>DIVERTED</th>\n",
       "      <th>DISTANCE</th>\n",
       "      <th>Unnamed: 21</th>\n",
       "    </tr>\n",
       "  </thead>\n",
       "  <tbody>\n",
       "    <tr>\n",
       "      <th>0</th>\n",
       "      <td>1</td>\n",
       "      <td>3</td>\n",
       "      <td>EV</td>\n",
       "      <td>20366</td>\n",
       "      <td>EV</td>\n",
       "      <td>N48901</td>\n",
       "      <td>4397</td>\n",
       "      <td>13930</td>\n",
       "      <td>1393007</td>\n",
       "      <td>ORD</td>\n",
       "      <td>11977</td>\n",
       "      <td>1197705</td>\n",
       "      <td>GRB</td>\n",
       "      <td>1003.0</td>\n",
       "      <td>0.0</td>\n",
       "      <td>1000-1059</td>\n",
       "      <td>1117.0</td>\n",
       "      <td>0.0</td>\n",
       "      <td>0.0</td>\n",
       "      <td>0.0</td>\n",
       "      <td>174.0</td>\n",
       "      <td>NaN</td>\n",
       "    </tr>\n",
       "    <tr>\n",
       "      <th>1</th>\n",
       "      <td>1</td>\n",
       "      <td>3</td>\n",
       "      <td>EV</td>\n",
       "      <td>20366</td>\n",
       "      <td>EV</td>\n",
       "      <td>N16976</td>\n",
       "      <td>4401</td>\n",
       "      <td>15370</td>\n",
       "      <td>1537002</td>\n",
       "      <td>TUL</td>\n",
       "      <td>13930</td>\n",
       "      <td>1393007</td>\n",
       "      <td>ORD</td>\n",
       "      <td>1027.0</td>\n",
       "      <td>0.0</td>\n",
       "      <td>1000-1059</td>\n",
       "      <td>1216.0</td>\n",
       "      <td>0.0</td>\n",
       "      <td>0.0</td>\n",
       "      <td>0.0</td>\n",
       "      <td>585.0</td>\n",
       "      <td>NaN</td>\n",
       "    </tr>\n",
       "    <tr>\n",
       "      <th>2</th>\n",
       "      <td>1</td>\n",
       "      <td>3</td>\n",
       "      <td>EV</td>\n",
       "      <td>20366</td>\n",
       "      <td>EV</td>\n",
       "      <td>N12167</td>\n",
       "      <td>4404</td>\n",
       "      <td>11618</td>\n",
       "      <td>1161802</td>\n",
       "      <td>EWR</td>\n",
       "      <td>15412</td>\n",
       "      <td>1541205</td>\n",
       "      <td>TYS</td>\n",
       "      <td>1848.0</td>\n",
       "      <td>0.0</td>\n",
       "      <td>1800-1859</td>\n",
       "      <td>2120.0</td>\n",
       "      <td>0.0</td>\n",
       "      <td>0.0</td>\n",
       "      <td>0.0</td>\n",
       "      <td>631.0</td>\n",
       "      <td>NaN</td>\n",
       "    </tr>\n",
       "    <tr>\n",
       "      <th>3</th>\n",
       "      <td>1</td>\n",
       "      <td>3</td>\n",
       "      <td>EV</td>\n",
       "      <td>20366</td>\n",
       "      <td>EV</td>\n",
       "      <td>N14902</td>\n",
       "      <td>4405</td>\n",
       "      <td>10781</td>\n",
       "      <td>1078105</td>\n",
       "      <td>BTR</td>\n",
       "      <td>12266</td>\n",
       "      <td>1226603</td>\n",
       "      <td>IAH</td>\n",
       "      <td>1846.0</td>\n",
       "      <td>0.0</td>\n",
       "      <td>1800-1859</td>\n",
       "      <td>2004.0</td>\n",
       "      <td>0.0</td>\n",
       "      <td>0.0</td>\n",
       "      <td>0.0</td>\n",
       "      <td>253.0</td>\n",
       "      <td>NaN</td>\n",
       "    </tr>\n",
       "    <tr>\n",
       "      <th>4</th>\n",
       "      <td>1</td>\n",
       "      <td>3</td>\n",
       "      <td>EV</td>\n",
       "      <td>20366</td>\n",
       "      <td>EV</td>\n",
       "      <td>N606UX</td>\n",
       "      <td>4407</td>\n",
       "      <td>14524</td>\n",
       "      <td>1452401</td>\n",
       "      <td>RIC</td>\n",
       "      <td>12266</td>\n",
       "      <td>1226603</td>\n",
       "      <td>IAH</td>\n",
       "      <td>1038.0</td>\n",
       "      <td>0.0</td>\n",
       "      <td>1000-1059</td>\n",
       "      <td>1330.0</td>\n",
       "      <td>0.0</td>\n",
       "      <td>0.0</td>\n",
       "      <td>0.0</td>\n",
       "      <td>1157.0</td>\n",
       "      <td>NaN</td>\n",
       "    </tr>\n",
       "  </tbody>\n",
       "</table>\n",
       "</div>"
      ],
      "text/plain": [
       "   DAY_OF_MONTH  DAY_OF_WEEK OP_UNIQUE_CARRIER  OP_CARRIER_AIRLINE_ID OP_CARRIER TAIL_NUM  OP_CARRIER_FL_NUM  ORIGIN_AIRPORT_ID  ORIGIN_AIRPORT_SEQ_ID ORIGIN  DEST_AIRPORT_ID  DEST_AIRPORT_SEQ_ID DEST  DEP_TIME  DEP_DEL15 DEP_TIME_BLK  ARR_TIME  ARR_DEL15  CANCELLED  DIVERTED  DISTANCE  Unnamed: 21\n",
       "0             1            3                EV                  20366         EV   N48901               4397              13930                1393007    ORD            11977              1197705  GRB    1003.0        0.0    1000-1059    1117.0        0.0        0.0       0.0     174.0          NaN\n",
       "1             1            3                EV                  20366         EV   N16976               4401              15370                1537002    TUL            13930              1393007  ORD    1027.0        0.0    1000-1059    1216.0        0.0        0.0       0.0     585.0          NaN\n",
       "2             1            3                EV                  20366         EV   N12167               4404              11618                1161802    EWR            15412              1541205  TYS    1848.0        0.0    1800-1859    2120.0        0.0        0.0       0.0     631.0          NaN\n",
       "3             1            3                EV                  20366         EV   N14902               4405              10781                1078105    BTR            12266              1226603  IAH    1846.0        0.0    1800-1859    2004.0        0.0        0.0       0.0     253.0          NaN\n",
       "4             1            3                EV                  20366         EV   N606UX               4407              14524                1452401    RIC            12266              1226603  IAH    1038.0        0.0    1000-1059    1330.0        0.0        0.0       0.0    1157.0          NaN"
      ]
     },
     "execution_count": 4,
     "metadata": {},
     "output_type": "execute_result"
    }
   ],
   "source": [
    "print(flights_jan_2020.shape)\n",
    "flights_jan_2020.head()"
   ]
  },
  {
   "cell_type": "code",
   "execution_count": 5,
   "metadata": {},
   "outputs": [
    {
     "name": "stdout",
     "output_type": "stream",
     "text": [
      "True\n"
     ]
    }
   ],
   "source": [
    "flights_jan_2019['YEAR'] = 2019\n",
    "flights_jan_2020['YEAR'] = 2020\n",
    "\n",
    "print(set(flights_jan_2019.columns) == set(flights_jan_2020.columns))"
   ]
  },
  {
   "cell_type": "code",
   "execution_count": 6,
   "metadata": {},
   "outputs": [
    {
     "name": "stdout",
     "output_type": "stream",
     "text": [
      "(1191331, 23)\n"
     ]
    }
   ],
   "source": [
    "flights = pd.concat([flights_jan_2019, flights_jan_2020])\n",
    "flights.reset_index(drop=True, inplace=True)\n",
    "print(flights.shape)"
   ]
  },
  {
   "cell_type": "code",
   "execution_count": 7,
   "metadata": {},
   "outputs": [
    {
     "data": {
      "text/html": [
       "<div>\n",
       "<style scoped>\n",
       "    .dataframe tbody tr th:only-of-type {\n",
       "        vertical-align: middle;\n",
       "    }\n",
       "\n",
       "    .dataframe tbody tr th {\n",
       "        vertical-align: top;\n",
       "    }\n",
       "\n",
       "    .dataframe thead th {\n",
       "        text-align: right;\n",
       "    }\n",
       "</style>\n",
       "<table border=\"1\" class=\"dataframe\">\n",
       "  <thead>\n",
       "    <tr style=\"text-align: right;\">\n",
       "      <th></th>\n",
       "      <th>uniue_vals</th>\n",
       "      <th>missing_percent</th>\n",
       "      <th>data_type</th>\n",
       "    </tr>\n",
       "  </thead>\n",
       "  <tbody>\n",
       "    <tr>\n",
       "      <th>DAY_OF_MONTH</th>\n",
       "      <td>31</td>\n",
       "      <td>0.00</td>\n",
       "      <td>int64</td>\n",
       "    </tr>\n",
       "    <tr>\n",
       "      <th>DAY_OF_WEEK</th>\n",
       "      <td>7</td>\n",
       "      <td>0.00</td>\n",
       "      <td>int64</td>\n",
       "    </tr>\n",
       "    <tr>\n",
       "      <th>OP_UNIQUE_CARRIER</th>\n",
       "      <td>17</td>\n",
       "      <td>0.00</td>\n",
       "      <td>object</td>\n",
       "    </tr>\n",
       "    <tr>\n",
       "      <th>OP_CARRIER_AIRLINE_ID</th>\n",
       "      <td>17</td>\n",
       "      <td>0.00</td>\n",
       "      <td>int64</td>\n",
       "    </tr>\n",
       "    <tr>\n",
       "      <th>OP_CARRIER</th>\n",
       "      <td>17</td>\n",
       "      <td>0.00</td>\n",
       "      <td>object</td>\n",
       "    </tr>\n",
       "    <tr>\n",
       "      <th>TAIL_NUM</th>\n",
       "      <td>5857</td>\n",
       "      <td>0.27</td>\n",
       "      <td>object</td>\n",
       "    </tr>\n",
       "    <tr>\n",
       "      <th>OP_CARRIER_FL_NUM</th>\n",
       "      <td>6997</td>\n",
       "      <td>0.00</td>\n",
       "      <td>int64</td>\n",
       "    </tr>\n",
       "    <tr>\n",
       "      <th>ORIGIN_AIRPORT_ID</th>\n",
       "      <td>353</td>\n",
       "      <td>0.00</td>\n",
       "      <td>int64</td>\n",
       "    </tr>\n",
       "    <tr>\n",
       "      <th>ORIGIN_AIRPORT_SEQ_ID</th>\n",
       "      <td>373</td>\n",
       "      <td>0.00</td>\n",
       "      <td>int64</td>\n",
       "    </tr>\n",
       "    <tr>\n",
       "      <th>ORIGIN</th>\n",
       "      <td>353</td>\n",
       "      <td>0.00</td>\n",
       "      <td>object</td>\n",
       "    </tr>\n",
       "    <tr>\n",
       "      <th>DEST_AIRPORT_ID</th>\n",
       "      <td>353</td>\n",
       "      <td>0.00</td>\n",
       "      <td>int64</td>\n",
       "    </tr>\n",
       "    <tr>\n",
       "      <th>DEST_AIRPORT_SEQ_ID</th>\n",
       "      <td>373</td>\n",
       "      <td>0.00</td>\n",
       "      <td>int64</td>\n",
       "    </tr>\n",
       "    <tr>\n",
       "      <th>DEST</th>\n",
       "      <td>353</td>\n",
       "      <td>0.00</td>\n",
       "      <td>object</td>\n",
       "    </tr>\n",
       "    <tr>\n",
       "      <th>DEP_TIME</th>\n",
       "      <td>1440</td>\n",
       "      <td>1.97</td>\n",
       "      <td>float64</td>\n",
       "    </tr>\n",
       "    <tr>\n",
       "      <th>DEP_DEL15</th>\n",
       "      <td>2</td>\n",
       "      <td>1.97</td>\n",
       "      <td>float64</td>\n",
       "    </tr>\n",
       "    <tr>\n",
       "      <th>DEP_TIME_BLK</th>\n",
       "      <td>19</td>\n",
       "      <td>0.00</td>\n",
       "      <td>object</td>\n",
       "    </tr>\n",
       "    <tr>\n",
       "      <th>ARR_TIME</th>\n",
       "      <td>1440</td>\n",
       "      <td>2.07</td>\n",
       "      <td>float64</td>\n",
       "    </tr>\n",
       "    <tr>\n",
       "      <th>ARR_DEL15</th>\n",
       "      <td>2</td>\n",
       "      <td>2.24</td>\n",
       "      <td>float64</td>\n",
       "    </tr>\n",
       "    <tr>\n",
       "      <th>CANCELLED</th>\n",
       "      <td>2</td>\n",
       "      <td>0.00</td>\n",
       "      <td>float64</td>\n",
       "    </tr>\n",
       "    <tr>\n",
       "      <th>DIVERTED</th>\n",
       "      <td>2</td>\n",
       "      <td>0.00</td>\n",
       "      <td>float64</td>\n",
       "    </tr>\n",
       "    <tr>\n",
       "      <th>DISTANCE</th>\n",
       "      <td>1512</td>\n",
       "      <td>0.00</td>\n",
       "      <td>float64</td>\n",
       "    </tr>\n",
       "    <tr>\n",
       "      <th>Unnamed: 21</th>\n",
       "      <td>0</td>\n",
       "      <td>inf</td>\n",
       "      <td>float64</td>\n",
       "    </tr>\n",
       "    <tr>\n",
       "      <th>YEAR</th>\n",
       "      <td>2</td>\n",
       "      <td>0.00</td>\n",
       "      <td>int64</td>\n",
       "    </tr>\n",
       "  </tbody>\n",
       "</table>\n",
       "</div>"
      ],
      "text/plain": [
       "                       uniue_vals  missing_percent data_type\n",
       "DAY_OF_MONTH                   31             0.00     int64\n",
       "DAY_OF_WEEK                     7             0.00     int64\n",
       "OP_UNIQUE_CARRIER              17             0.00    object\n",
       "OP_CARRIER_AIRLINE_ID          17             0.00     int64\n",
       "OP_CARRIER                     17             0.00    object\n",
       "TAIL_NUM                     5857             0.27    object\n",
       "OP_CARRIER_FL_NUM            6997             0.00     int64\n",
       "ORIGIN_AIRPORT_ID             353             0.00     int64\n",
       "ORIGIN_AIRPORT_SEQ_ID         373             0.00     int64\n",
       "ORIGIN                        353             0.00    object\n",
       "DEST_AIRPORT_ID               353             0.00     int64\n",
       "DEST_AIRPORT_SEQ_ID           373             0.00     int64\n",
       "DEST                          353             0.00    object\n",
       "DEP_TIME                     1440             1.97   float64\n",
       "DEP_DEL15                       2             1.97   float64\n",
       "DEP_TIME_BLK                   19             0.00    object\n",
       "ARR_TIME                     1440             2.07   float64\n",
       "ARR_DEL15                       2             2.24   float64\n",
       "CANCELLED                       2             0.00   float64\n",
       "DIVERTED                        2             0.00   float64\n",
       "DISTANCE                     1512             0.00   float64\n",
       "Unnamed: 21                     0              inf   float64\n",
       "YEAR                            2             0.00     int64"
      ]
     },
     "execution_count": 7,
     "metadata": {},
     "output_type": "execute_result"
    }
   ],
   "source": [
    "summary = pd.DataFrame({'uniue_vals': flights.nunique(), 'missing_percent': round(flights.isna().sum()*100/flights.count(), 2), 'data_type': flights.dtypes})\n",
    "summary"
   ]
  },
  {
   "cell_type": "code",
   "execution_count": 8,
   "metadata": {},
   "outputs": [
    {
     "data": {
      "image/png": "[encoded data removed]",
      "text/plain": [
       "<Figure size 864x432 with 2 Axes>"
      ]
     },
     "metadata": {
      "needs_background": "light"
     },
     "output_type": "display_data"
    }
   ],
   "source": [
    "fig, (ax0, ax1) = plt.subplots(1, 2, figsize=(12,6))\n",
    "dep = sns.countplot(x=flights['DEP_DEL15'], hue=flights['YEAR'], ax=ax0)\n",
    "dep.set_title('Depatures')\n",
    "dep.set_xlabel('Labels')\n",
    "dep.set_ylabel('Freq')\n",
    "arr = sns.countplot(x=flights['ARR_DEL15'], hue=flights['YEAR'], ax=ax1)\n",
    "arr.set_title('Arrivals')\n",
    "arr.set_xlabel('Labels')\n",
    "arr.set_ylabel('Freq')\n",
    "plt.show()"
   ]
  },
  {
   "cell_type": "code",
   "execution_count": 9,
   "metadata": {},
   "outputs": [
    {
     "data": {
      "image/png": "[encoded data removed]",
      "text/plain": [
       "<Figure size 504x432 with 1 Axes>"
      ]
     },
     "metadata": {
      "needs_background": "light"
     },
     "output_type": "display_data"
    }
   ],
   "source": [
    "week = flights[['DAY_OF_WEEK', 'ARR_DEL15']].groupby('DAY_OF_WEEK').sum()\n",
    "week['PERCENT'] = week['ARR_DEL15']/(week['ARR_DEL15'].sum())*100\n",
    "plt.figure(figsize=(7, 6))\n",
    "sns.barplot(x=week.index, y=week['ARR_DEL15']).set(title='Delayed flights by day of week', xlabel='Day of Week', ylabel='Freq')\n",
    "for i, v in enumerate(week['PERCENT']):\n",
    "    plt.text(week.index[i]-1.25, v+1000, str('{:.1f}%'.format(v)))\n",
    "plt.show()"
   ]
  },
  {
   "cell_type": "code",
   "execution_count": 10,
   "metadata": {},
   "outputs": [
    {
     "data": {
      "image/png": "[encoded data removed]",
      "text/plain": [
       "<Figure size 1800x576 with 1 Axes>"
      ]
     },
     "metadata": {
      "needs_background": "light"
     },
     "output_type": "display_data"
    }
   ],
   "source": [
    "month = flights[['DAY_OF_MONTH', 'ARR_DEL15']].groupby('DAY_OF_MONTH').sum()\n",
    "month['PERCENT'] = month['ARR_DEL15']/(month['ARR_DEL15'].sum())*100\n",
    "plt.figure(figsize=(25, 8))\n",
    "sns.barplot(x=month.index, y=month['ARR_DEL15']).set(title='Delayed flights by day of month', xlabel='Day of Month', ylabel='Freq')\n",
    "for i, v in enumerate(month['PERCENT']):\n",
    "    plt.text(month.index[i]-1.25, v+250, str('{:.1f}%'.format(v)))\n",
    "plt.show()"
   ]
  },
  {
   "cell_type": "code",
   "execution_count": 11,
   "metadata": {},
   "outputs": [
    {
     "data": {
      "text/html": [
       "<div>\n",
       "<style scoped>\n",
       "    .dataframe tbody tr th:only-of-type {\n",
       "        vertical-align: middle;\n",
       "    }\n",
       "\n",
       "    .dataframe tbody tr th {\n",
       "        vertical-align: top;\n",
       "    }\n",
       "\n",
       "    .dataframe thead th {\n",
       "        text-align: right;\n",
       "    }\n",
       "</style>\n",
       "<table border=\"1\" class=\"dataframe\">\n",
       "  <thead>\n",
       "    <tr style=\"text-align: right;\">\n",
       "      <th></th>\n",
       "      <th>DEP_DEL15</th>\n",
       "      <th>PERCENT</th>\n",
       "    </tr>\n",
       "    <tr>\n",
       "      <th>ORIGIN</th>\n",
       "      <th></th>\n",
       "      <th></th>\n",
       "    </tr>\n",
       "  </thead>\n",
       "  <tbody>\n",
       "    <tr>\n",
       "      <th>ORD</th>\n",
       "      <td>10736.0</td>\n",
       "      <td>5.937692</td>\n",
       "    </tr>\n",
       "    <tr>\n",
       "      <th>DFW</th>\n",
       "      <td>8597.0</td>\n",
       "      <td>4.754689</td>\n",
       "    </tr>\n",
       "    <tr>\n",
       "      <th>ATL</th>\n",
       "      <td>7784.0</td>\n",
       "      <td>4.305048</td>\n",
       "    </tr>\n",
       "    <tr>\n",
       "      <th>DEN</th>\n",
       "      <td>6195.0</td>\n",
       "      <td>3.426230</td>\n",
       "    </tr>\n",
       "    <tr>\n",
       "      <th>CLT</th>\n",
       "      <td>5744.0</td>\n",
       "      <td>3.176798</td>\n",
       "    </tr>\n",
       "  </tbody>\n",
       "</table>\n",
       "</div>"
      ],
      "text/plain": [
       "        DEP_DEL15   PERCENT\n",
       "ORIGIN                     \n",
       "ORD       10736.0  5.937692\n",
       "DFW        8597.0  4.754689\n",
       "ATL        7784.0  4.305048\n",
       "DEN        6195.0  3.426230\n",
       "CLT        5744.0  3.176798"
      ]
     },
     "execution_count": 11,
     "metadata": {},
     "output_type": "execute_result"
    }
   ],
   "source": [
    "origin_later = flights[['ORIGIN', 'DEP_DEL15']].groupby('ORIGIN').sum().sort_values(by='DEP_DEL15', ascending=False)\n",
    "origin_later['PERCENT'] = origin_later['DEP_DEL15']/(origin_later['DEP_DEL15'].sum())*100\n",
    "origin_later.head()"
   ]
  },
  {
   "cell_type": "code",
   "execution_count": 12,
   "metadata": {},
   "outputs": [
    {
     "data": {
      "text/html": [
       "<div>\n",
       "<style scoped>\n",
       "    .dataframe tbody tr th:only-of-type {\n",
       "        vertical-align: middle;\n",
       "    }\n",
       "\n",
       "    .dataframe tbody tr th {\n",
       "        vertical-align: top;\n",
       "    }\n",
       "\n",
       "    .dataframe thead th {\n",
       "        text-align: right;\n",
       "    }\n",
       "</style>\n",
       "<table border=\"1\" class=\"dataframe\">\n",
       "  <thead>\n",
       "    <tr style=\"text-align: right;\">\n",
       "      <th></th>\n",
       "      <th>ARR_DEL15</th>\n",
       "      <th>PERCENT</th>\n",
       "    </tr>\n",
       "    <tr>\n",
       "      <th>DEST</th>\n",
       "      <th></th>\n",
       "      <th></th>\n",
       "    </tr>\n",
       "  </thead>\n",
       "  <tbody>\n",
       "    <tr>\n",
       "      <th>ORD</th>\n",
       "      <td>10170.0</td>\n",
       "      <td>5.423798</td>\n",
       "    </tr>\n",
       "    <tr>\n",
       "      <th>DFW</th>\n",
       "      <td>8667.0</td>\n",
       "      <td>4.622227</td>\n",
       "    </tr>\n",
       "    <tr>\n",
       "      <th>ATL</th>\n",
       "      <td>7263.0</td>\n",
       "      <td>3.873455</td>\n",
       "    </tr>\n",
       "    <tr>\n",
       "      <th>LGA</th>\n",
       "      <td>7077.0</td>\n",
       "      <td>3.774259</td>\n",
       "    </tr>\n",
       "    <tr>\n",
       "      <th>SFO</th>\n",
       "      <td>6114.0</td>\n",
       "      <td>3.260678</td>\n",
       "    </tr>\n",
       "  </tbody>\n",
       "</table>\n",
       "</div>"
      ],
      "text/plain": [
       "      ARR_DEL15   PERCENT\n",
       "DEST                     \n",
       "ORD     10170.0  5.423798\n",
       "DFW      8667.0  4.622227\n",
       "ATL      7263.0  3.873455\n",
       "LGA      7077.0  3.774259\n",
       "SFO      6114.0  3.260678"
      ]
     },
     "execution_count": 12,
     "metadata": {},
     "output_type": "execute_result"
    }
   ],
   "source": [
    "dest_later = flights[['DEST', 'ARR_DEL15']].groupby('DEST').sum().sort_values(by='ARR_DEL15', ascending=False)\n",
    "dest_later['PERCENT'] = dest_later['ARR_DEL15']/(dest_later['ARR_DEL15'].sum())*100\n",
    "dest_later.head()"
   ]
  },
  {
   "cell_type": "code",
   "execution_count": 13,
   "metadata": {},
   "outputs": [
    {
     "data": {
      "image/png": "[encoded data removed]",
      "text/plain": [
       "<Figure size 1008x576 with 1 Axes>"
      ]
     },
     "metadata": {
      "needs_background": "light"
     },
     "output_type": "display_data"
    }
   ],
   "source": [
    "carrier = flights[['OP_UNIQUE_CARRIER', 'ARR_DEL15']].groupby('OP_UNIQUE_CARRIER').sum().sort_values(by='ARR_DEL15', ascending=False)\n",
    "plt.figure(figsize=(14, 8))\n",
    "sns.barplot(x=carrier.index, y=carrier['ARR_DEL15']).set(title='Delayed flights by Carrier', xlabel='Carrier Code', ylabel='Freq')\n",
    "plt.show()"
   ]
  },
  {
   "cell_type": "code",
   "execution_count": 14,
   "metadata": {},
   "outputs": [
    {
     "data": {
      "image/png": "[encoded data removed]",
      "text/plain": [
       "<Figure size 1080x576 with 1 Axes>"
      ]
     },
     "metadata": {
      "needs_background": "light"
     },
     "output_type": "display_data"
    }
   ],
   "source": [
    "plt.figure(figsize=(15, 8))\n",
    "sns.histplot(x=flights['DISTANCE'], hue=flights['ARR_DEL15'], bins=50, palette=[\"k\", \"r\"]).set(title='Delayed flights by distance flew', xlabel='Distance', ylabel='Freq')\n",
    "plt.show()"
   ]
  },
  {
   "cell_type": "code",
   "execution_count": 15,
   "metadata": {},
   "outputs": [
    {
     "data": {
      "text/plain": [
       "True"
      ]
     },
     "execution_count": 15,
     "metadata": {},
     "output_type": "execute_result"
    }
   ],
   "source": [
    "# NaN count in delayed arrivals\n",
    "flights['ARR_DEL15'].isnull().sum() == flights['CANCELLED'].sum() + flights['DIVERTED'].sum()"
   ]
  },
  {
   "cell_type": "code",
   "execution_count": 16,
   "metadata": {},
   "outputs": [
    {
     "name": "stdout",
     "output_type": "stream",
     "text": [
      "(1167195, 20)\n"
     ]
    },
    {
     "data": {
      "text/plain": [
       "DAY_OF_MONTH             0\n",
       "DAY_OF_WEEK              0\n",
       "OP_UNIQUE_CARRIER        0\n",
       "OP_CARRIER_AIRLINE_ID    0\n",
       "OP_CARRIER               0\n",
       "TAIL_NUM                 0\n",
       "OP_CARRIER_FL_NUM        0\n",
       "ORIGIN_AIRPORT_ID        0\n",
       "ORIGIN_AIRPORT_SEQ_ID    0\n",
       "ORIGIN                   0\n",
       "DEST_AIRPORT_ID          0\n",
       "DEST_AIRPORT_SEQ_ID      0\n",
       "DEST                     0\n",
       "DEP_TIME                 0\n",
       "DEP_DEL15                0\n",
       "DEP_TIME_BLK             0\n",
       "ARR_TIME                 0\n",
       "ARR_DEL15                0\n",
       "DISTANCE                 0\n",
       "YEAR                     0\n",
       "dtype: int64"
      ]
     },
     "execution_count": 16,
     "metadata": {},
     "output_type": "execute_result"
    }
   ],
   "source": [
    "# It seems target values are set to NaN, which flights cancelled and diverted. So for those, we assume that it arrived in late\n",
    "flights.loc[flights['CANCELLED'] == 1, 'ARR_DEL15'] = 1\n",
    "flights.loc[flights['DIVERTED'] == 1, 'ARR_DEL15'] = 1\n",
    "flights.drop(columns=['CANCELLED', 'DIVERTED'], inplace=True)\n",
    "\n",
    "# Since 'Unnamed: 21' column dose not carry any date, drop that column\n",
    "flights.drop(columns=['Unnamed: 21'], inplace=True)\n",
    "\n",
    "# Since all other missing values are less that 3% and the dataset is quite big, drop flights with missing data\n",
    "flights = flights.dropna()\n",
    "flights.reset_index(drop=True)\n",
    "\n",
    "print(flights.shape)\n",
    "flights.isnull().sum()"
   ]
  },
  {
   "cell_type": "code",
   "execution_count": 17,
   "metadata": {},
   "outputs": [
    {
     "data": {
      "image/png": "[encoded data removed]",
      "text/plain": [
       "<Figure size 1008x720 with 2 Axes>"
      ]
     },
     "metadata": {
      "needs_background": "light"
     },
     "output_type": "display_data"
    }
   ],
   "source": [
    "plt.figure(figsize = (14, 10))\n",
    "sns.heatmap(flights.corr(), annot = True, cmap = 'coolwarm')\n",
    "plt.show()"
   ]
  },
  {
   "cell_type": "code",
   "execution_count": 18,
   "metadata": {},
   "outputs": [
    {
     "data": {
      "text/html": [
       "<div>\n",
       "<style scoped>\n",
       "    .dataframe tbody tr th:only-of-type {\n",
       "        vertical-align: middle;\n",
       "    }\n",
       "\n",
       "    .dataframe tbody tr th {\n",
       "        vertical-align: top;\n",
       "    }\n",
       "\n",
       "    .dataframe thead th {\n",
       "        text-align: right;\n",
       "    }\n",
       "</style>\n",
       "<table border=\"1\" class=\"dataframe\">\n",
       "  <thead>\n",
       "    <tr style=\"text-align: right;\">\n",
       "      <th></th>\n",
       "      <th>DEP_TIME</th>\n",
       "      <th>DEP_TIME_BLK</th>\n",
       "    </tr>\n",
       "  </thead>\n",
       "  <tbody>\n",
       "    <tr>\n",
       "      <th>0</th>\n",
       "      <td>601.0</td>\n",
       "      <td>0600-0659</td>\n",
       "    </tr>\n",
       "    <tr>\n",
       "      <th>1</th>\n",
       "      <td>1359.0</td>\n",
       "      <td>1400-1459</td>\n",
       "    </tr>\n",
       "    <tr>\n",
       "      <th>2</th>\n",
       "      <td>1215.0</td>\n",
       "      <td>1200-1259</td>\n",
       "    </tr>\n",
       "    <tr>\n",
       "      <th>3</th>\n",
       "      <td>1521.0</td>\n",
       "      <td>1500-1559</td>\n",
       "    </tr>\n",
       "    <tr>\n",
       "      <th>4</th>\n",
       "      <td>1847.0</td>\n",
       "      <td>1900-1959</td>\n",
       "    </tr>\n",
       "    <tr>\n",
       "      <th>...</th>\n",
       "      <td>...</td>\n",
       "      <td>...</td>\n",
       "    </tr>\n",
       "    <tr>\n",
       "      <th>1191326</th>\n",
       "      <td>1002.0</td>\n",
       "      <td>0700-0759</td>\n",
       "    </tr>\n",
       "    <tr>\n",
       "      <th>1191327</th>\n",
       "      <td>1747.0</td>\n",
       "      <td>1700-1759</td>\n",
       "    </tr>\n",
       "    <tr>\n",
       "      <th>1191328</th>\n",
       "      <td>554.0</td>\n",
       "      <td>0600-0659</td>\n",
       "    </tr>\n",
       "    <tr>\n",
       "      <th>1191329</th>\n",
       "      <td>1714.0</td>\n",
       "      <td>1700-1759</td>\n",
       "    </tr>\n",
       "    <tr>\n",
       "      <th>1191330</th>\n",
       "      <td>1841.0</td>\n",
       "      <td>1800-1859</td>\n",
       "    </tr>\n",
       "  </tbody>\n",
       "</table>\n",
       "<p>1167195 rows × 2 columns</p>\n",
       "</div>"
      ],
      "text/plain": [
       "         DEP_TIME DEP_TIME_BLK\n",
       "0           601.0    0600-0659\n",
       "1          1359.0    1400-1459\n",
       "2          1215.0    1200-1259\n",
       "3          1521.0    1500-1559\n",
       "4          1847.0    1900-1959\n",
       "...           ...          ...\n",
       "1191326    1002.0    0700-0759\n",
       "1191327    1747.0    1700-1759\n",
       "1191328     554.0    0600-0659\n",
       "1191329    1714.0    1700-1759\n",
       "1191330    1841.0    1800-1859\n",
       "\n",
       "[1167195 rows x 2 columns]"
      ]
     },
     "execution_count": 18,
     "metadata": {},
     "output_type": "execute_result"
    }
   ],
   "source": [
    "flights[['DEP_TIME', 'DEP_TIME_BLK']]"
   ]
  },
  {
   "cell_type": "code",
   "execution_count": 19,
   "metadata": {},
   "outputs": [],
   "source": [
    "# It seems some of the time blocks are incorrect and it has one block for 0001-0559. Therefore, recreating time blocks for departures and creating time blocks for arrivals\n",
    "blocks = []\n",
    "for hour in range(0,24):\n",
    "    hour_part = ('%02d' %(hour))\n",
    "    blocks.append(hour_part + '00-' + hour_part + '59')\n",
    "\n",
    "def get_time_blk(time):\n",
    "    hour = str('%04d' %(time))[:2]\n",
    "    time_block = None\n",
    "    for block in blocks:\n",
    "        if block.startswith(hour):\n",
    "            time_block = block\n",
    "            break\n",
    "    if time_block == None and str(time) == '2400.0':\n",
    "        time_block = '0000-0059'\n",
    "    return time_block\n",
    "\n",
    "flights['ARR_TIME_BLK'] = flights.ARR_TIME.apply(get_time_blk)\n",
    "flights['DEP_TIME_BLK'] = flights.DEP_TIME.apply(get_time_blk)"
   ]
  },
  {
   "cell_type": "code",
   "execution_count": 20,
   "metadata": {},
   "outputs": [
    {
     "data": {
      "text/html": [
       "<div>\n",
       "<style scoped>\n",
       "    .dataframe tbody tr th:only-of-type {\n",
       "        vertical-align: middle;\n",
       "    }\n",
       "\n",
       "    .dataframe tbody tr th {\n",
       "        vertical-align: top;\n",
       "    }\n",
       "\n",
       "    .dataframe thead th {\n",
       "        text-align: right;\n",
       "    }\n",
       "</style>\n",
       "<table border=\"1\" class=\"dataframe\">\n",
       "  <thead>\n",
       "    <tr style=\"text-align: right;\">\n",
       "      <th></th>\n",
       "      <th>DEP_TIME</th>\n",
       "      <th>DEP_TIME_BLK</th>\n",
       "      <th>ARR_TIME</th>\n",
       "      <th>ARR_TIME_BLK</th>\n",
       "    </tr>\n",
       "  </thead>\n",
       "  <tbody>\n",
       "    <tr>\n",
       "      <th>0</th>\n",
       "      <td>601.0</td>\n",
       "      <td>0600-0659</td>\n",
       "      <td>722.0</td>\n",
       "      <td>0700-0759</td>\n",
       "    </tr>\n",
       "    <tr>\n",
       "      <th>1</th>\n",
       "      <td>1359.0</td>\n",
       "      <td>1300-1359</td>\n",
       "      <td>1633.0</td>\n",
       "      <td>1600-1659</td>\n",
       "    </tr>\n",
       "    <tr>\n",
       "      <th>2</th>\n",
       "      <td>1215.0</td>\n",
       "      <td>1200-1259</td>\n",
       "      <td>1329.0</td>\n",
       "      <td>1300-1359</td>\n",
       "    </tr>\n",
       "    <tr>\n",
       "      <th>3</th>\n",
       "      <td>1521.0</td>\n",
       "      <td>1500-1559</td>\n",
       "      <td>1625.0</td>\n",
       "      <td>1600-1659</td>\n",
       "    </tr>\n",
       "    <tr>\n",
       "      <th>4</th>\n",
       "      <td>1847.0</td>\n",
       "      <td>1800-1859</td>\n",
       "      <td>1940.0</td>\n",
       "      <td>1900-1959</td>\n",
       "    </tr>\n",
       "    <tr>\n",
       "      <th>...</th>\n",
       "      <td>...</td>\n",
       "      <td>...</td>\n",
       "      <td>...</td>\n",
       "      <td>...</td>\n",
       "    </tr>\n",
       "    <tr>\n",
       "      <th>1191326</th>\n",
       "      <td>1002.0</td>\n",
       "      <td>1000-1059</td>\n",
       "      <td>1128.0</td>\n",
       "      <td>1100-1159</td>\n",
       "    </tr>\n",
       "    <tr>\n",
       "      <th>1191327</th>\n",
       "      <td>1747.0</td>\n",
       "      <td>1700-1759</td>\n",
       "      <td>1933.0</td>\n",
       "      <td>1900-1959</td>\n",
       "    </tr>\n",
       "    <tr>\n",
       "      <th>1191328</th>\n",
       "      <td>554.0</td>\n",
       "      <td>0500-0559</td>\n",
       "      <td>752.0</td>\n",
       "      <td>0700-0759</td>\n",
       "    </tr>\n",
       "    <tr>\n",
       "      <th>1191329</th>\n",
       "      <td>1714.0</td>\n",
       "      <td>1700-1759</td>\n",
       "      <td>1811.0</td>\n",
       "      <td>1800-1859</td>\n",
       "    </tr>\n",
       "    <tr>\n",
       "      <th>1191330</th>\n",
       "      <td>1841.0</td>\n",
       "      <td>1800-1859</td>\n",
       "      <td>2128.0</td>\n",
       "      <td>2100-2159</td>\n",
       "    </tr>\n",
       "  </tbody>\n",
       "</table>\n",
       "<p>1167195 rows × 4 columns</p>\n",
       "</div>"
      ],
      "text/plain": [
       "         DEP_TIME DEP_TIME_BLK  ARR_TIME ARR_TIME_BLK\n",
       "0           601.0    0600-0659     722.0    0700-0759\n",
       "1          1359.0    1300-1359    1633.0    1600-1659\n",
       "2          1215.0    1200-1259    1329.0    1300-1359\n",
       "3          1521.0    1500-1559    1625.0    1600-1659\n",
       "4          1847.0    1800-1859    1940.0    1900-1959\n",
       "...           ...          ...       ...          ...\n",
       "1191326    1002.0    1000-1059    1128.0    1100-1159\n",
       "1191327    1747.0    1700-1759    1933.0    1900-1959\n",
       "1191328     554.0    0500-0559     752.0    0700-0759\n",
       "1191329    1714.0    1700-1759    1811.0    1800-1859\n",
       "1191330    1841.0    1800-1859    2128.0    2100-2159\n",
       "\n",
       "[1167195 rows x 4 columns]"
      ]
     },
     "execution_count": 20,
     "metadata": {},
     "output_type": "execute_result"
    }
   ],
   "source": [
    "# Rechecking the accuracy of time and time block columns\n",
    "flights[['DEP_TIME', 'DEP_TIME_BLK', 'ARR_TIME', 'ARR_TIME_BLK']]"
   ]
  },
  {
   "cell_type": "code",
   "execution_count": 21,
   "metadata": {},
   "outputs": [],
   "source": [
    "# Dropping DEP_TIME and ARR_TIME, since TIME and TIME_BLK columns will strongly correlated each other\n",
    "flights.drop(columns=['DEP_TIME', 'ARR_TIME'], inplace=True)"
   ]
  },
  {
   "cell_type": "code",
   "execution_count": 22,
   "metadata": {},
   "outputs": [
    {
     "data": {
      "text/plain": [
       "True    1167195\n",
       "dtype: int64"
      ]
     },
     "execution_count": 22,
     "metadata": {},
     "output_type": "execute_result"
    }
   ],
   "source": [
    "(flights['OP_UNIQUE_CARRIER'] == flights['OP_CARRIER']).value_counts()"
   ]
  },
  {
   "cell_type": "code",
   "execution_count": 23,
   "metadata": {},
   "outputs": [],
   "source": [
    "# Dropping OP_CARRIER, since OP_UNIQUE_CARRIER and OP_CARRIER columns are same\n",
    "flights.drop(columns = ['OP_CARRIER', 'OP_CARRIER_AIRLINE_ID'], inplace=True)"
   ]
  },
  {
   "cell_type": "code",
   "execution_count": 24,
   "metadata": {},
   "outputs": [],
   "source": [
    "flights['ORIGIN_AIRPORT_SEQ_ID'] = flights['ORIGIN_AIRPORT_SEQ_ID'].apply(str)\n",
    "flights['ORIGIN_SEQ_ID'] = flights['ORIGIN_AIRPORT_SEQ_ID'].str[-2:]\n",
    "\n",
    "flights['DEST_AIRPORT_SEQ_ID'] = flights['DEST_AIRPORT_SEQ_ID'].apply(str)\n",
    "flights['DEST_SEQ_ID'] = flights['DEST_AIRPORT_SEQ_ID'].str[-2:]\n",
    "\n",
    "flights.drop(columns=['ORIGIN_AIRPORT_ID', 'ORIGIN_AIRPORT_SEQ_ID', 'DEST_AIRPORT_ID', 'DEST_AIRPORT_SEQ_ID'], inplace=True)"
   ]
  },
  {
   "cell_type": "code",
   "execution_count": 25,
   "metadata": {},
   "outputs": [
    {
     "name": "stdout",
     "output_type": "stream",
     "text": [
      "<class 'pandas.core.frame.DataFrame'>\n",
      "Int64Index: 1167195 entries, 0 to 1191330\n",
      "Data columns (total 15 columns):\n",
      " #   Column             Non-Null Count    Dtype   \n",
      "---  ------             --------------    -----   \n",
      " 0   DAY_OF_MONTH       1167195 non-null  category\n",
      " 1   DAY_OF_WEEK        1167195 non-null  category\n",
      " 2   OP_UNIQUE_CARRIER  1167195 non-null  category\n",
      " 3   TAIL_NUM           1167195 non-null  category\n",
      " 4   OP_CARRIER_FL_NUM  1167195 non-null  category\n",
      " 5   ORIGIN             1167195 non-null  category\n",
      " 6   DEST               1167195 non-null  category\n",
      " 7   DEP_DEL15          1167195 non-null  category\n",
      " 8   DEP_TIME_BLK       1167195 non-null  category\n",
      " 9   ARR_DEL15          1167195 non-null  category\n",
      " 10  DISTANCE           1167195 non-null  float64 \n",
      " 11  YEAR               1167195 non-null  category\n",
      " 12  ARR_TIME_BLK       1167195 non-null  category\n",
      " 13  ORIGIN_SEQ_ID      1167195 non-null  category\n",
      " 14  DEST_SEQ_ID        1167195 non-null  category\n",
      "dtypes: category(14), float64(1)\n",
      "memory usage: 38.3 MB\n"
     ]
    }
   ],
   "source": [
    "cat_var = flights.columns.values.tolist()\n",
    "cat_var.remove('DISTANCE')\n",
    "for col in cat_var:\n",
    "    flights[col] = flights[col].astype('category')\n",
    "\n",
    "flights.info()"
   ]
  },
  {
   "cell_type": "code",
   "execution_count": 26,
   "metadata": {},
   "outputs": [
    {
     "name": "stdout",
     "output_type": "stream",
     "text": [
      "Whole dataset:  (1167195, 15)\n",
      "Reduced dataset:  (116720, 15)\n"
     ]
    }
   ],
   "source": [
    "# Random undersampling of whole dataset\n",
    "flights_us = flights.sample(frac=0.1, random_state=42, ignore_index=True)\n",
    "print('Whole dataset: ', flights.shape)\n",
    "print('Reduced dataset: ', flights_us.shape)"
   ]
  },
  {
   "cell_type": "code",
   "execution_count": 27,
   "metadata": {},
   "outputs": [
    {
     "name": "stdout",
     "output_type": "stream",
     "text": [
      "(116720, 14)\n",
      "(116720,)\n"
     ]
    }
   ],
   "source": [
    "# Generating feature matrix and target vector\n",
    "flights_X = flights_us.drop(columns=['ARR_DEL15'])\n",
    "flights_y = flights_us['ARR_DEL15']\n",
    "print(flights_X.shape)\n",
    "print(flights_y.shape)"
   ]
  },
  {
   "cell_type": "code",
   "execution_count": 28,
   "metadata": {},
   "outputs": [
    {
     "data": {
      "text/html": [
       "<div>\n",
       "<style scoped>\n",
       "    .dataframe tbody tr th:only-of-type {\n",
       "        vertical-align: middle;\n",
       "    }\n",
       "\n",
       "    .dataframe tbody tr th {\n",
       "        vertical-align: top;\n",
       "    }\n",
       "\n",
       "    .dataframe thead th {\n",
       "        text-align: right;\n",
       "    }\n",
       "</style>\n",
       "<table border=\"1\" class=\"dataframe\">\n",
       "  <thead>\n",
       "    <tr style=\"text-align: right;\">\n",
       "      <th></th>\n",
       "      <th>DAY_OF_MONTH</th>\n",
       "      <th>DAY_OF_WEEK</th>\n",
       "      <th>OP_UNIQUE_CARRIER</th>\n",
       "      <th>TAIL_NUM</th>\n",
       "      <th>OP_CARRIER_FL_NUM</th>\n",
       "      <th>ORIGIN</th>\n",
       "      <th>DEST</th>\n",
       "      <th>DEP_DEL15</th>\n",
       "      <th>DEP_TIME_BLK</th>\n",
       "      <th>DISTANCE</th>\n",
       "      <th>YEAR</th>\n",
       "      <th>ARR_TIME_BLK</th>\n",
       "      <th>ORIGIN_SEQ_ID</th>\n",
       "      <th>DEST_SEQ_ID</th>\n",
       "    </tr>\n",
       "  </thead>\n",
       "  <tbody>\n",
       "    <tr>\n",
       "      <th>0</th>\n",
       "      <td>10</td>\n",
       "      <td>4</td>\n",
       "      <td>1</td>\n",
       "      <td>4272</td>\n",
       "      <td>2387</td>\n",
       "      <td>214</td>\n",
       "      <td>204</td>\n",
       "      <td>0</td>\n",
       "      <td>19</td>\n",
       "      <td>192.0</td>\n",
       "      <td>0</td>\n",
       "      <td>20</td>\n",
       "      <td>2</td>\n",
       "      <td>1</td>\n",
       "    </tr>\n",
       "    <tr>\n",
       "      <th>1</th>\n",
       "      <td>19</td>\n",
       "      <td>6</td>\n",
       "      <td>13</td>\n",
       "      <td>2014</td>\n",
       "      <td>248</td>\n",
       "      <td>156</td>\n",
       "      <td>158</td>\n",
       "      <td>0</td>\n",
       "      <td>17</td>\n",
       "      <td>1190.0</td>\n",
       "      <td>0</td>\n",
       "      <td>19</td>\n",
       "      <td>1</td>\n",
       "      <td>2</td>\n",
       "    </tr>\n",
       "    <tr>\n",
       "      <th>2</th>\n",
       "      <td>8</td>\n",
       "      <td>2</td>\n",
       "      <td>1</td>\n",
       "      <td>3192</td>\n",
       "      <td>2048</td>\n",
       "      <td>70</td>\n",
       "      <td>89</td>\n",
       "      <td>0</td>\n",
       "      <td>7</td>\n",
       "      <td>331.0</td>\n",
       "      <td>0</td>\n",
       "      <td>9</td>\n",
       "      <td>2</td>\n",
       "      <td>4</td>\n",
       "    </tr>\n",
       "    <tr>\n",
       "      <th>3</th>\n",
       "      <td>17</td>\n",
       "      <td>4</td>\n",
       "      <td>14</td>\n",
       "      <td>4320</td>\n",
       "      <td>1565</td>\n",
       "      <td>232</td>\n",
       "      <td>180</td>\n",
       "      <td>0</td>\n",
       "      <td>19</td>\n",
       "      <td>407.0</td>\n",
       "      <td>0</td>\n",
       "      <td>20</td>\n",
       "      <td>7</td>\n",
       "      <td>2</td>\n",
       "    </tr>\n",
       "    <tr>\n",
       "      <th>4</th>\n",
       "      <td>17</td>\n",
       "      <td>4</td>\n",
       "      <td>11</td>\n",
       "      <td>2568</td>\n",
       "      <td>5380</td>\n",
       "      <td>70</td>\n",
       "      <td>82</td>\n",
       "      <td>0</td>\n",
       "      <td>15</td>\n",
       "      <td>335.0</td>\n",
       "      <td>0</td>\n",
       "      <td>16</td>\n",
       "      <td>2</td>\n",
       "      <td>1</td>\n",
       "    </tr>\n",
       "  </tbody>\n",
       "</table>\n",
       "</div>"
      ],
      "text/plain": [
       "   DAY_OF_MONTH  DAY_OF_WEEK  OP_UNIQUE_CARRIER  TAIL_NUM  OP_CARRIER_FL_NUM  ORIGIN  DEST  DEP_DEL15  DEP_TIME_BLK  DISTANCE  YEAR  ARR_TIME_BLK  ORIGIN_SEQ_ID  DEST_SEQ_ID\n",
       "0            10            4                  1      4272               2387     214   204          0            19     192.0     0            20              2            1\n",
       "1            19            6                 13      2014                248     156   158          0            17    1190.0     0            19              1            2\n",
       "2             8            2                  1      3192               2048      70    89          0             7     331.0     0             9              2            4\n",
       "3            17            4                 14      4320               1565     232   180          0            19     407.0     0            20              7            2\n",
       "4            17            4                 11      2568               5380      70    82          0            15     335.0     0            16              2            1"
      ]
     },
     "execution_count": 28,
     "metadata": {},
     "output_type": "execute_result"
    }
   ],
   "source": [
    "le = LabelEncoder()\n",
    "cat_var.remove('ARR_DEL15')\n",
    "for col in cat_var:\n",
    "    flights_X[col] = le.fit_transform(flights_X[[col]])\n",
    "\n",
    "flights_X.head() "
   ]
  },
  {
   "cell_type": "code",
   "execution_count": 29,
   "metadata": {},
   "outputs": [],
   "source": [
    "lb = LabelBinarizer()\n",
    "flights_y = lb.fit_transform(flights_y).reshape((-1,))"
   ]
  },
  {
   "cell_type": "code",
   "execution_count": 30,
   "metadata": {},
   "outputs": [
    {
     "name": "stdout",
     "output_type": "stream",
     "text": [
      "(81704, 14) (81704,)\n",
      "(35016, 14) (35016,)\n"
     ]
    }
   ],
   "source": [
    "# Splitting the data into train and test datasets (70% & 30%)\n",
    "X_train, X_test, y_train, y_test = train_test_split(flights_X, flights_y, test_size=0.3, random_state=42)\n",
    "print(X_train.shape, y_train.shape)\n",
    "print(X_test.shape, y_test.shape)"
   ]
  },
  {
   "cell_type": "code",
   "execution_count": 31,
   "metadata": {},
   "outputs": [
    {
     "name": "stdout",
     "output_type": "stream",
     "text": [
      "(136620, 14)\n",
      "(136620,)\n",
      "(35016, 14)\n",
      "(35016,)\n"
     ]
    }
   ],
   "source": [
    "# Since the dataset is imbalanced, let's use RandomOverSampler method to generate more examples of class 1\n",
    "ros = RandomOverSampler(sampling_strategy='minority', random_state=42)\n",
    "X_train_ros, y_train_ros = ros.fit_resample(X_train, y_train)\n",
    "for dataset in [X_train_ros, y_train_ros, X_test, y_test]:\n",
    "    print(dataset.shape)"
   ]
  },
  {
   "cell_type": "code",
   "execution_count": 32,
   "metadata": {},
   "outputs": [
    {
     "data": {
      "image/png": "[encoded data removed]",
      "text/plain": [
       "<Figure size 864x360 with 2 Axes>"
      ]
     },
     "metadata": {
      "needs_background": "light"
     },
     "output_type": "display_data"
    }
   ],
   "source": [
    "fig, (ax0, ax1) = plt.subplots(1, 2, figsize=(12,5))\n",
    "unbal = sns.countplot(x=y_train, ax=ax0).set(title='Unbalance dataset')\n",
    "bal = sns.countplot(x=y_train_ros, ax=ax1).set(title='Balance dataset')\n",
    "plt.show()"
   ]
  },
  {
   "cell_type": "code",
   "execution_count": 33,
   "metadata": {},
   "outputs": [
    {
     "data": {
      "text/html": [
       "<div>\n",
       "<style scoped>\n",
       "    .dataframe tbody tr th:only-of-type {\n",
       "        vertical-align: middle;\n",
       "    }\n",
       "\n",
       "    .dataframe tbody tr th {\n",
       "        vertical-align: top;\n",
       "    }\n",
       "\n",
       "    .dataframe thead th {\n",
       "        text-align: right;\n",
       "    }\n",
       "</style>\n",
       "<table border=\"1\" class=\"dataframe\">\n",
       "  <thead>\n",
       "    <tr style=\"text-align: right;\">\n",
       "      <th></th>\n",
       "      <th>LogisticRegression</th>\n",
       "      <th>SGDClassifier</th>\n",
       "      <th>DecisionTreeClassifier</th>\n",
       "      <th>RandomForestClassifier</th>\n",
       "      <th>SVC</th>\n",
       "      <th>GradientBoostingClassifier</th>\n",
       "      <th>XGBClassifier</th>\n",
       "      <th>BestScore</th>\n",
       "    </tr>\n",
       "  </thead>\n",
       "  <tbody>\n",
       "    <tr>\n",
       "      <th>Accuracy</th>\n",
       "      <td>0.848492</td>\n",
       "      <td>0.726585</td>\n",
       "      <td>1.0</td>\n",
       "      <td>1.0</td>\n",
       "      <td>0.535075</td>\n",
       "      <td>0.849729</td>\n",
       "      <td>0.913058</td>\n",
       "      <td>DecisionTreeClassifier</td>\n",
       "    </tr>\n",
       "    <tr>\n",
       "      <th>Precision</th>\n",
       "      <td>0.945271</td>\n",
       "      <td>0.687000</td>\n",
       "      <td>1.0</td>\n",
       "      <td>1.0</td>\n",
       "      <td>0.535714</td>\n",
       "      <td>0.945244</td>\n",
       "      <td>0.943955</td>\n",
       "      <td>DecisionTreeClassifier</td>\n",
       "    </tr>\n",
       "    <tr>\n",
       "      <th>Recall</th>\n",
       "      <td>0.739818</td>\n",
       "      <td>0.832426</td>\n",
       "      <td>1.0</td>\n",
       "      <td>1.0</td>\n",
       "      <td>0.526131</td>\n",
       "      <td>0.742468</td>\n",
       "      <td>0.878261</td>\n",
       "      <td>DecisionTreeClassifier</td>\n",
       "    </tr>\n",
       "    <tr>\n",
       "      <th>F1 Score</th>\n",
       "      <td>0.830020</td>\n",
       "      <td>0.752754</td>\n",
       "      <td>1.0</td>\n",
       "      <td>1.0</td>\n",
       "      <td>0.530879</td>\n",
       "      <td>0.831674</td>\n",
       "      <td>0.909924</td>\n",
       "      <td>DecisionTreeClassifier</td>\n",
       "    </tr>\n",
       "  </tbody>\n",
       "</table>\n",
       "</div>"
      ],
      "text/plain": [
       "           LogisticRegression  SGDClassifier  DecisionTreeClassifier  RandomForestClassifier       SVC  GradientBoostingClassifier  XGBClassifier               BestScore\n",
       "Accuracy             0.848492       0.726585                     1.0                     1.0  0.535075                    0.849729       0.913058  DecisionTreeClassifier\n",
       "Precision            0.945271       0.687000                     1.0                     1.0  0.535714                    0.945244       0.943955  DecisionTreeClassifier\n",
       "Recall               0.739818       0.832426                     1.0                     1.0  0.526131                    0.742468       0.878261  DecisionTreeClassifier\n",
       "F1 Score             0.830020       0.752754                     1.0                     1.0  0.530879                    0.831674       0.909924  DecisionTreeClassifier"
      ]
     },
     "execution_count": 33,
     "metadata": {},
     "output_type": "execute_result"
    }
   ],
   "source": [
    "# Instantiate the machine learning classifiers\n",
    "log = LogisticRegression(max_iter=1000, n_jobs=-1, random_state=42)\n",
    "sgd = SGDClassifier(max_iter=1000, n_jobs=-1, random_state=42)\n",
    "dtc = DecisionTreeClassifier(random_state=42)\n",
    "rfc = RandomForestClassifier(n_estimators=100, n_jobs=-1, random_state=42)\n",
    "svc = SVC(random_state=42)\n",
    "gbc = GradientBoostingClassifier(random_state=42)\n",
    "xgb = XGBClassifier(n_jobs=-1, random_state=42)\n",
    "\n",
    "table_index = ['Accuracy', 'Precision', 'Recall', 'F1 Score']\n",
    "\n",
    "# Initail model evaluation\n",
    "initial_models = [log, sgd, dtc, rfc, svc, gbc, xgb]\n",
    "initial_model_scores = {}\n",
    "\n",
    "def initial_model_eval(X, y):\n",
    "    for model in initial_models:\n",
    "        model.fit(X, y)\n",
    "        y_pred = model.predict(X)\n",
    "        initial_model_scores[type(model).__name__] = [accuracy_score(y, y_pred), precision_score(y, y_pred), recall_score(y, y_pred), f1_score(y, y_pred)]\n",
    "    initial_table = pd.DataFrame(initial_model_scores, index=table_index)\n",
    "    initial_table['BestScore'] = initial_table.idxmax(axis=1)\n",
    "    return initial_table\n",
    "\n",
    "initial_model_eval(X_train_ros, y_train_ros)"
   ]
  },
  {
   "cell_type": "code",
   "execution_count": 34,
   "metadata": {},
   "outputs": [
    {
     "data": {
      "text/html": [
       "<div>\n",
       "<style scoped>\n",
       "    .dataframe tbody tr th:only-of-type {\n",
       "        vertical-align: middle;\n",
       "    }\n",
       "\n",
       "    .dataframe tbody tr th {\n",
       "        vertical-align: top;\n",
       "    }\n",
       "\n",
       "    .dataframe thead th {\n",
       "        text-align: right;\n",
       "    }\n",
       "</style>\n",
       "<table border=\"1\" class=\"dataframe\">\n",
       "  <thead>\n",
       "    <tr style=\"text-align: right;\">\n",
       "      <th></th>\n",
       "      <th>LogisticRegression</th>\n",
       "      <th>SGDClassifier</th>\n",
       "      <th>DecisionTreeClassifier</th>\n",
       "      <th>RandomForestClassifier</th>\n",
       "      <th>SVC</th>\n",
       "      <th>GradientBoostingClassifier</th>\n",
       "      <th>XGBClassifier</th>\n",
       "      <th>BestScore</th>\n",
       "    </tr>\n",
       "  </thead>\n",
       "  <tbody>\n",
       "    <tr>\n",
       "      <th>Accuracy</th>\n",
       "      <td>0.848624</td>\n",
       "      <td>0.619829</td>\n",
       "      <td>0.952686</td>\n",
       "      <td>0.977631</td>\n",
       "      <td>0.533970</td>\n",
       "      <td>0.849744</td>\n",
       "      <td>0.899275</td>\n",
       "      <td>RandomForestClassifier</td>\n",
       "    </tr>\n",
       "    <tr>\n",
       "      <th>Precision</th>\n",
       "      <td>0.945862</td>\n",
       "      <td>0.723838</td>\n",
       "      <td>0.914519</td>\n",
       "      <td>0.958026</td>\n",
       "      <td>0.534492</td>\n",
       "      <td>0.945067</td>\n",
       "      <td>0.933198</td>\n",
       "      <td>RandomForestClassifier</td>\n",
       "    </tr>\n",
       "    <tr>\n",
       "      <th>Recall</th>\n",
       "      <td>0.739584</td>\n",
       "      <td>0.613570</td>\n",
       "      <td>0.998726</td>\n",
       "      <td>0.999034</td>\n",
       "      <td>0.526702</td>\n",
       "      <td>0.742658</td>\n",
       "      <td>0.860123</td>\n",
       "      <td>RandomForestClassifier</td>\n",
       "    </tr>\n",
       "    <tr>\n",
       "      <th>F1 Score</th>\n",
       "      <td>0.830093</td>\n",
       "      <td>0.557094</td>\n",
       "      <td>0.954768</td>\n",
       "      <td>0.978099</td>\n",
       "      <td>0.530529</td>\n",
       "      <td>0.831720</td>\n",
       "      <td>0.895168</td>\n",
       "      <td>RandomForestClassifier</td>\n",
       "    </tr>\n",
       "  </tbody>\n",
       "</table>\n",
       "</div>"
      ],
      "text/plain": [
       "           LogisticRegression  SGDClassifier  DecisionTreeClassifier  RandomForestClassifier       SVC  GradientBoostingClassifier  XGBClassifier               BestScore\n",
       "Accuracy             0.848624       0.619829                0.952686                0.977631  0.533970                    0.849744       0.899275  RandomForestClassifier\n",
       "Precision            0.945862       0.723838                0.914519                0.958026  0.534492                    0.945067       0.933198  RandomForestClassifier\n",
       "Recall               0.739584       0.613570                0.998726                0.999034  0.526702                    0.742658       0.860123  RandomForestClassifier\n",
       "F1 Score             0.830093       0.557094                0.954768                0.978099  0.530529                    0.831720       0.895168  RandomForestClassifier"
      ]
     },
     "execution_count": 34,
     "metadata": {},
     "output_type": "execute_result"
    }
   ],
   "source": [
    "# Define dictionary with performance metrics\n",
    "scoring = {'accuracy':make_scorer(accuracy_score), 'precision':make_scorer(precision_score), 'recall':make_scorer(recall_score), 'f1_score':make_scorer(f1_score)}\n",
    "\n",
    "# Cross validate model evaluation\n",
    "cv_models = [log, sgd, dtc, rfc, svc, gbc, xgb]\n",
    "cv_model_scores = {}\n",
    "\n",
    "def cv_model_eval(X, y, folds):\n",
    "    for model in cv_models:\n",
    "        scores = cross_validate(model, X, y, cv=folds, scoring=scoring, n_jobs=-1)\n",
    "        cv_model_scores[type(model).__name__] = [scores['test_accuracy'].mean(), scores['test_precision'].mean(), scores['test_recall'].mean(), scores['test_f1_score'].mean()]\n",
    "    cv_table = pd.DataFrame(cv_model_scores, index=table_index)\n",
    "    cv_table['BestScore'] = cv_table.idxmax(axis=1)\n",
    "    return cv_table\n",
    "\n",
    "cv_model_eval(X_train_ros, y_train_ros, 5)"
   ]
  },
  {
   "cell_type": "code",
   "execution_count": 35,
   "metadata": {},
   "outputs": [
    {
     "name": "stdout",
     "output_type": "stream",
     "text": [
      "Fitting 3 folds for each of 18 candidates, totalling 54 fits\n"
     ]
    },
    {
     "data": {
      "text/plain": [
       "{'max_depth': 60, 'max_features': 2, 'n_estimators': 100}"
      ]
     },
     "execution_count": 35,
     "metadata": {},
     "output_type": "execute_result"
    }
   ],
   "source": [
    "# Hyperparameter tuning with grid search cross validation\n",
    "parameters = {'n_estimators': [100, 200, 500],\n",
    "              'max_depth': [20, 40, 60],\n",
    "              'max_features': [2, 3]}\n",
    "\n",
    "gs_rfc = GridSearchCV(estimator=rfc, param_grid=parameters, cv=3, n_jobs=-1, verbose=2)\n",
    "gs_rfc.fit(X_train_ros, y_train_ros)\n",
    "gs_rfc.best_params_"
   ]
  },
  {
   "cell_type": "code",
   "execution_count": 36,
   "metadata": {},
   "outputs": [
    {
     "name": "stdout",
     "output_type": "stream",
     "text": [
      "Classification report on training set\n",
      "              precision    recall  f1-score   support\n",
      "\n",
      "           0       1.00      1.00      1.00     68310\n",
      "           1       1.00      1.00      1.00     68310\n",
      "\n",
      "    accuracy                           1.00    136620\n",
      "   macro avg       1.00      1.00      1.00    136620\n",
      "weighted avg       1.00      1.00      1.00    136620\n",
      "\n"
     ]
    }
   ],
   "source": [
    "best_rfc = gs_rfc.best_estimator_\n",
    "best_pred_tr = best_rfc.predict(X_train_ros)\n",
    "print('Classification report on training set')\n",
    "print(classification_report(y_train_ros, best_pred_tr))"
   ]
  },
  {
   "cell_type": "code",
   "execution_count": 37,
   "metadata": {},
   "outputs": [
    {
     "name": "stdout",
     "output_type": "stream",
     "text": [
      "Classification report on testing set\n",
      "              precision    recall  f1-score   support\n",
      "\n",
      "           0       0.95      0.96      0.95     29304\n",
      "           1       0.78      0.74      0.76      5712\n",
      "\n",
      "    accuracy                           0.92     35016\n",
      "   macro avg       0.87      0.85      0.86     35016\n",
      "weighted avg       0.92      0.92      0.92     35016\n",
      "\n"
     ]
    }
   ],
   "source": [
    "best_pred_te = best_rfc.predict(X_test)\n",
    "print('Classification report on testing set')\n",
    "print(classification_report(y_test, best_pred_te))"
   ]
  },
  {
   "cell_type": "code",
   "execution_count": 38,
   "metadata": {},
   "outputs": [
    {
     "data": {
      "image/png": "[encoded data removed]",
      "text/plain": [
       "<Figure size 432x288 with 2 Axes>"
      ]
     },
     "metadata": {
      "needs_background": "light"
     },
     "output_type": "display_data"
    }
   ],
   "source": [
    "con_mat = confusion_matrix(y_test, best_pred_te)\n",
    "con = sns.heatmap(con_mat, center=True, annot=True, cmap='Blues', fmt='g')\n",
    "con.set_title('Confusion Matrix', fontdict={'fontsize':14}, pad=14)\n",
    "con.set_ylabel('Actual')\n",
    "con.set_xlabel('Predicted')\n",
    "plt.show()"
   ]
  },
  {
   "cell_type": "code",
   "execution_count": 39,
   "metadata": {},
   "outputs": [
    {
     "data": {
      "image/png": "[encoded data removed]",
      "text/plain": [
       "<Figure size 720x432 with 1 Axes>"
      ]
     },
     "metadata": {
      "needs_background": "light"
     },
     "output_type": "display_data"
    }
   ],
   "source": [
    "features = X_train.columns\n",
    "importances = best_rfc.feature_importances_\n",
    "indices = np.argsort(importances)\n",
    "plt.figure(figsize=(10, 6))\n",
    "plt.title('Feature Importances')\n",
    "plt.barh(range(len(indices)), importances[indices], color='b', align='center')\n",
    "plt.yticks(range(len(indices)), [features[i] for i in indices])\n",
    "plt.xlabel('Relative Importance')\n",
    "plt.show()"
   ]
  }
 ],
 "metadata": {
  "kernelspec": {
   "display_name": "Python 3.8.5 ('mds_du')",
   "language": "python",
   "name": "python3"
  },
  "language_info": {
   "codemirror_mode": {
    "name": "ipython",
    "version": 3
   },
   "file_extension": ".py",
   "mimetype": "text/x-python",
   "name": "python",
   "nbconvert_exporter": "python",
   "pygments_lexer": "ipython3",
   "version": "3.8.5"
  },
  "orig_nbformat": 4,
  "vscode": {
   "interpreter": {
    "hash": "9953b00403c835b797f1887c71ca0d8b664a3f3ef018c8b7fbfdd889b3c50511"
   }
  }
 },
 "nbformat": 4,
 "nbformat_minor": 2
}
